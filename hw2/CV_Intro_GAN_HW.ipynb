{
  "cells": [
    {
      "cell_type": "markdown",
      "metadata": {
        "id": "view-in-github",
        "colab_type": "text"
      },
      "source": [
        "<a href=\"https://colab.research.google.com/github/ol3gka/Advanced-training-course-Fundamentals-of-computer-vision-Skoltech/blob/main/hw2/CV_Intro_GAN_HW.ipynb\" target=\"_parent\"><img src=\"https://colab.research.google.com/assets/colab-badge.svg\" alt=\"Open In Colab\"/></a>"
      ]
    },
    {
      "cell_type": "markdown",
      "source": [
        "# Image synthesis with GAN"
      ],
      "metadata": {
        "id": "BDTfzIK6oTjh"
      }
    },
    {
      "cell_type": "markdown",
      "source": [
        "#Seminar part"
      ],
      "metadata": {
        "id": "RZahAmUEn2Fc"
      }
    },
    {
      "cell_type": "markdown",
      "metadata": {
        "id": "J3JGj9d7ePJQ"
      },
      "source": [
        "We will try to generate **T2-weighted MRI** from **T1-weighted MRI**.\n",
        "\n",
        "We will use the [IXI dataset](https://brain-development.org/ixi-dataset/)\n",
        "to have access to **paired T1-w and T2-w images**."
      ]
    },
    {
      "cell_type": "markdown",
      "metadata": {
        "id": "pTJ3_KeKePJQ"
      },
      "source": [
        "## Downloading the dataset\n",
        "\n",
        "The dataset can be found on this\n",
        "[server](https://aramislab.paris.inria.fr/files/data/databases/DL4MI/IXI-dataset.tar.gz)\n",
        "and alternatively in the following\n",
        "[GitHub repository](https://github.com/Easternwen/IXI-dataset).\n",
        "In the `size64` folder, there are 1154 files: 2 images for 577 subjects.\n",
        "The size of each image is (64, 64).\n",
        "\n",
        "Let's download the file and have a look at the data."
      ]
    },
    {
      "cell_type": "code",
      "execution_count": null,
      "metadata": {
        "id": "H4e6XXTsePJR",
        "outputId": "a7f86eaa-bc56-466e-8875-b0074ad38b8a",
        "colab": {
          "base_uri": "https://localhost:8080/"
        }
      },
      "outputs": [
        {
          "output_type": "stream",
          "name": "stdout",
          "text": [
            "Cloning into 'IXI-dataset'...\n",
            "remote: Enumerating objects: 1157, done.\u001b[K\n",
            "remote: Counting objects: 100% (1157/1157), done.\u001b[K\n",
            "remote: Compressing objects: 100% (1156/1156), done.\u001b[K\n",
            "remote: Total 1157 (delta 0), reused 1157 (delta 0), pack-reused 0\u001b[K\n",
            "Receiving objects: 100% (1157/1157), 24.99 MiB | 11.41 MiB/s, done.\n"
          ]
        }
      ],
      "source": [
        "# Get the dataset from the server\n",
        "! git clone https://github.com/Easternwen/IXI-dataset.git"
      ]
    },
    {
      "cell_type": "markdown",
      "metadata": {
        "id": "CZKlzliEePJS"
      },
      "source": [
        "The dataset used in this lab is composed of preprocessed images from the\n",
        "[IXI dataset](https://brain-development.org/ixi-dataset/). Two different\n",
        "structural MRI modalities are comprised in this dataset:\n",
        "\n",
        "- T1 weighted images\n",
        "\n",
        "- T2 weighted images\n",
        "\n",
        "These modalities do not highlight the same tissues: for example the CSF\n",
        "voxels are cancelled in T1 weighted imaging whereas they are highlighted by\n",
        "the T2 weighted imaging."
      ]
    },
    {
      "cell_type": "code",
      "execution_count": null,
      "metadata": {
        "id": "JNXKjrR8ePJS",
        "outputId": "f66ec980-5098-48b1-f08d-3f72eeddff9b",
        "colab": {
          "base_uri": "https://localhost:8080/",
          "height": 367
        }
      },
      "outputs": [
        {
          "output_type": "display_data",
          "data": {
            "text/plain": [
              "<Figure size 900x400 with 2 Axes>"
            ],
            "image/png": "[encoded data removed]"
          },
          "metadata": {}
        }
      ],
      "source": [
        "import matplotlib.pyplot as plt\n",
        "import numpy as np\n",
        "import os\n",
        "import torch\n",
        "\n",
        "\n",
        "root = \"./IXI-dataset/size64/\"\n",
        "\n",
        "plt.figure(figsize=(9, 4))\n",
        "\n",
        "plt.subplot(1, 2, 1)\n",
        "plt.imshow(np.swapaxes(torch.load(os.path.join(root, 'sub-IXI002 - T1.pt')), 0, 1),\n",
        "           cmap='gray', origin='lower')\n",
        "plt.title(\"T1 slice for subject 002\")\n",
        "plt.axis('off')\n",
        "\n",
        "plt.subplot(1, 2, 2)\n",
        "plt.imshow(np.swapaxes(torch.load(os.path.join(root, 'sub-IXI002 - T2.pt')), 0, 1),\n",
        "           cmap='gray', origin='lower')\n",
        "plt.title(\"T2 slice for subject 002\")\n",
        "plt.axis('off')\n",
        "plt.show()"
      ]
    },
    {
      "cell_type": "markdown",
      "metadata": {
        "id": "BFYNkiTPePJS"
      },
      "source": [
        "Let's import all the necessary packages."
      ]
    },
    {
      "cell_type": "code",
      "execution_count": null,
      "metadata": {
        "lines_to_next_cell": 1,
        "id": "YWTqduKYePJT"
      },
      "outputs": [],
      "source": [
        "# torch stuff\n",
        "import torch\n",
        "from torch import nn\n",
        "from torch.utils.data import DataLoader\n",
        "import torch.nn.functional as F\n",
        "\n",
        "# torchsummary and torchvision\n",
        "from torchsummary import summary\n",
        "from torchvision.utils import save_image\n",
        "\n",
        "# matplotlib stuff\n",
        "import matplotlib.pyplot as plt\n",
        "import matplotlib.image as img\n",
        "\n",
        "# numpy and pandas\n",
        "import numpy as np\n",
        "import pandas as pd\n",
        "\n",
        "# Common python packages\n",
        "import datetime\n",
        "import os\n",
        "import sys\n",
        "import time"
      ]
    },
    {
      "cell_type": "markdown",
      "metadata": {
        "id": "6S75voe7ePJT"
      },
      "source": [
        "Let's create a custom `IXIDataset` class to easily have access to the data.\n",
        "Here we don't use tsv files to split subjects between the training and the\n",
        "test set. We only set the dataset to the `train` or `test` mode to access\n",
        "training or test data."
      ]
    },
    {
      "cell_type": "code",
      "execution_count": null,
      "metadata": {
        "lines_to_next_cell": 1,
        "id": "J7cOBw6vePJT"
      },
      "outputs": [],
      "source": [
        "class IXIDataset(torch.utils.data.Dataset):\n",
        "    \"\"\"Dataset utility class.\n",
        "\n",
        "    Args:\n",
        "        root: (str) Path of the folder with all the images.\n",
        "        mode : {'train' or 'test'} Part of the dataset that is loaded.\n",
        "\n",
        "    \"\"\"\n",
        "    def __init__(self, root, mode=\"train\"):\n",
        "\n",
        "        files = sorted(os.listdir(root))\n",
        "        patient_id = list(set([i.split()[0] for i in files]))\n",
        "\n",
        "        imgs = []\n",
        "\n",
        "        if mode == \"train\":\n",
        "            for i in patient_id[:int(0.8 * len(patient_id))]:\n",
        "                if (\n",
        "                    os.path.isfile(os.path.join(root, i + \" - T1.pt\")) and\n",
        "                    os.path.isfile(os.path.join(root, i + \" - T2.pt\"))\n",
        "                ):\n",
        "                    imgs.append((os.path.join(root, i + \" - T1.pt\"),\n",
        "                                 os.path.join(root, i + \" - T2.pt\")))\n",
        "\n",
        "        elif mode == \"test\":\n",
        "            for i in patient_id[int(0.8 * len(patient_id)):]:\n",
        "                if (\n",
        "                    os.path.isfile(os.path.join(root, i + \" - T1.pt\")) and\n",
        "                    os.path.isfile(os.path.join(root, i + \" - T2.pt\"))\n",
        "                ):\n",
        "                    imgs.append((os.path.join(root, i + \" - T1.pt\"),\n",
        "                                 os.path.join(root, i + \" - T2.pt\")))\n",
        "\n",
        "        self.imgs = imgs\n",
        "\n",
        "    def __getitem__(self, index):\n",
        "        t1_path, t2_path = self.imgs[index]\n",
        "\n",
        "        t1 = torch.load(t1_path)[None, :, :]\n",
        "        t2 = torch.load(t2_path)[None, :, :]\n",
        "\n",
        "        return {\"T1\": t1, \"T2\": t2}\n",
        "\n",
        "    def __len__(self):\n",
        "        return len(self.imgs)"
      ]
    },
    {
      "cell_type": "markdown",
      "metadata": {
        "id": "GfsJkkQ8ePJT"
      },
      "source": [
        "Using this class and the `DataLoader` class from `torch.utils.data`, you can\n",
        "easily have access to your dataset. Here is a quick example on how to use it:\n",
        "\n",
        "```python\n",
        "# Create a DataLoader instance for the training set\n",
        "# You will get a batch of samples from the training set\n",
        "dataloader = DataLoader(\n",
        "    IXIDataset(root, mode=\"train\"),\n",
        "    batch_size=1,\n",
        "    shuffle=False,\n",
        ")\n",
        "\n",
        "for batch in dataloader:\n",
        "    # batch is a dictionary with two keys:\n",
        "    # - batch[\"T1\"] is a tensor with shape (batch_size, 64, 64) with the T1 images for the samples in this batch\n",
        "    # - batch[\"T2\"] is a tensor with shape (batch_size, 64, 64) with the T2 images for the samples in this batch\n",
        "```"
      ]
    },
    {
      "cell_type": "markdown",
      "metadata": {
        "id": "j2qimnqAePJU"
      },
      "source": [
        "## 1. Generator\n",
        "\n",
        "## 1.1 Architecture\n",
        "\n",
        "The generator will have a **U-Net architecture** with the following\n",
        "characteristics:\n",
        "\n",
        "* the descending blocks are convolutional layers followed by instance\n",
        "  normalization with a LeakyReLU activation function;\n",
        "\n",
        "* the ascending blocks are transposed convolutional layers followed by\n",
        "  instance normalization with a ReLU activation function.\n",
        "\n",
        "The parameters for each layer are given in the picture below."
      ]
    },
    {
      "cell_type": "markdown",
      "metadata": {
        "id": "sXFpDnqDePJU"
      },
      "source": [
        "<a href=\"https://ibb.co/QXBDNy3\">\n",
        "    <img src=\"https://i.ibb.co/g614TkL/Capture-d-cran-2020-03-02-16-04-06.png\" width=\"800\" border=\"0\">\n",
        "</a>"
      ]
    },
    {
      "cell_type": "markdown",
      "metadata": {
        "id": "TThWkzzQePJU"
      },
      "source": [
        "\n",
        "<div class=\"alert alert-block alert-info\">\n",
        "<b>Exercise</b>: Create a <code>GeneratorUNet</code> class to define the\n",
        "generator with the architecture given above.\n",
        "</div>"
      ]
    },
    {
      "cell_type": "code",
      "execution_count": null,
      "metadata": {
        "lines_to_next_cell": 1,
        "id": "wNM8yUEsePJU"
      },
      "outputs": [],
      "source": [
        "# We provide classes for each block of the U-Net.\n",
        "\n",
        "class UNetDown(nn.Module):\n",
        "    \"\"\"Descending block of the U-Net.\n",
        "\n",
        "    Args:\n",
        "        in_size: (int) number of channels in the input image.\n",
        "        out_size : (int) number of channels in the output image.\n",
        "\n",
        "    \"\"\"\n",
        "    def __init__(self, in_size, out_size):\n",
        "        super(UNetDown, self).__init__()\n",
        "        self.model = nn.Sequential(\n",
        "            nn.Conv2d(in_size, out_size, kernel_size=3, stride=2, padding=1),\n",
        "            nn.InstanceNorm2d(out_size),\n",
        "            nn.LeakyReLU(0.2)\n",
        "          )\n",
        "\n",
        "    def forward(self, x):\n",
        "        return self.model(x)\n",
        "\n",
        "\n",
        "class UNetUp(nn.Module):\n",
        "    \"\"\"Ascending block of the U-Net.\n",
        "\n",
        "    Args:\n",
        "        in_size: (int) number of channels in the input image.\n",
        "        out_size : (int) number of channels in the output image.\n",
        "\n",
        "    \"\"\"\n",
        "    def __init__(self, in_size, out_size):\n",
        "        super(UNetUp, self).__init__()\n",
        "        self.model = nn.Sequential(\n",
        "            nn.ConvTranspose2d(in_size, out_size, kernel_size=4,\n",
        "                               stride=2, padding=1),\n",
        "            nn.InstanceNorm2d(out_size),\n",
        "            nn.ReLU(inplace=True)\n",
        "        )\n",
        "\n",
        "    def forward(self, x, skip_input=None):\n",
        "        if skip_input is not None:\n",
        "            x = torch.cat((x, skip_input), 1)  # add the skip connection\n",
        "        x = self.model(x)\n",
        "        return x\n",
        "\n",
        "\n",
        "class FinalLayer(nn.Module):\n",
        "    \"\"\"Final block of the U-Net.\n",
        "\n",
        "    Args:\n",
        "        in_size: (int) number of channels in the input image.\n",
        "        out_size : (int) number of channels in the output image.\n",
        "\n",
        "    \"\"\"\n",
        "    def __init__(self, in_size, out_size):\n",
        "        super(FinalLayer, self).__init__()\n",
        "        self.model = nn.Sequential(\n",
        "            nn.Upsample(scale_factor=2),\n",
        "            nn.Conv2d(in_size, out_size, kernel_size=3, padding=1),\n",
        "            nn.Tanh(),\n",
        "        )\n",
        "\n",
        "    def forward(self, x, skip_input=None):\n",
        "        if skip_input is not None:\n",
        "            x = torch.cat((x, skip_input), 1)  # add the skip connection\n",
        "        x = self.model(x)\n",
        "        return x"
      ]
    },
    {
      "cell_type": "code",
      "execution_count": null,
      "metadata": {
        "id": "NmhsHx8MePJU"
      },
      "outputs": [],
      "source": [
        "class GeneratorUNet(nn.Module):\n",
        "    def __init__(self, in_channels=1, out_channels=1):\n",
        "        super(GeneratorUNet, self).__init__()\n",
        "\n",
        "        self.down1 = UNetDown(in_channels, 64)\n",
        "        self.down2 = UNetDown(64, 128)\n",
        "        self.down3 = UNetDown(128, 256)\n",
        "        self.down4 = UNetDown(256, 512)\n",
        "        self.down5 = UNetDown(512, 512)\n",
        "\n",
        "        self.up1 = UNetUp(512, 512)\n",
        "        self.up2 = UNetUp(1024, 256)\n",
        "        self.up3 = UNetUp(512, 128)\n",
        "        self.up4 = UNetUp(256, 64)\n",
        "\n",
        "        self.final = FinalLayer(128, 1)\n",
        "\n",
        "    def forward(self, x):\n",
        "        d1 = self.down1(x)\n",
        "        d2 = self.down2(d1)\n",
        "        d3 = self.down3(d2)\n",
        "        d4 = self.down4(d3)\n",
        "        d5 = self.down5(d4)\n",
        "\n",
        "        u1 = self.up1(d5)\n",
        "        u2 = self.up2(u1, d4)\n",
        "        u3 = self.up3(u2, d3)\n",
        "        u4 = self.up4(u3, d2)\n",
        "\n",
        "        return self.final(u4, d1)"
      ]
    },
    {
      "cell_type": "markdown",
      "metadata": {
        "id": "-CWVzmSrePJV"
      },
      "source": [
        "Let's have a look at the architecture of our generator:"
      ]
    },
    {
      "cell_type": "code",
      "execution_count": null,
      "metadata": {
        "lines_to_next_cell": 1,
        "id": "lm4bCKsZePJV",
        "outputId": "2513e085-64cf-4da2-ef27-6d156b30b703",
        "colab": {
          "base_uri": "https://localhost:8080/"
        }
      },
      "outputs": [
        {
          "output_type": "stream",
          "name": "stdout",
          "text": [
            "----------------------------------------------------------------\n",
            "        Layer (type)               Output Shape         Param #\n",
            "================================================================\n",
            "            Conv2d-1           [-1, 64, 32, 32]             640\n",
            "    InstanceNorm2d-2           [-1, 64, 32, 32]               0\n",
            "         LeakyReLU-3           [-1, 64, 32, 32]               0\n",
            "          UNetDown-4           [-1, 64, 32, 32]               0\n",
            "            Conv2d-5          [-1, 128, 16, 16]          73,856\n",
            "    InstanceNorm2d-6          [-1, 128, 16, 16]               0\n",
            "         LeakyReLU-7          [-1, 128, 16, 16]               0\n",
            "          UNetDown-8          [-1, 128, 16, 16]               0\n",
            "            Conv2d-9            [-1, 256, 8, 8]         295,168\n",
            "   InstanceNorm2d-10            [-1, 256, 8, 8]               0\n",
            "        LeakyReLU-11            [-1, 256, 8, 8]               0\n",
            "         UNetDown-12            [-1, 256, 8, 8]               0\n",
            "           Conv2d-13            [-1, 512, 4, 4]       1,180,160\n",
            "   InstanceNorm2d-14            [-1, 512, 4, 4]               0\n",
            "        LeakyReLU-15            [-1, 512, 4, 4]               0\n",
            "         UNetDown-16            [-1, 512, 4, 4]               0\n",
            "           Conv2d-17            [-1, 512, 2, 2]       2,359,808\n",
            "   InstanceNorm2d-18            [-1, 512, 2, 2]               0\n",
            "        LeakyReLU-19            [-1, 512, 2, 2]               0\n",
            "         UNetDown-20            [-1, 512, 2, 2]               0\n",
            "  ConvTranspose2d-21            [-1, 512, 4, 4]       4,194,816\n",
            "   InstanceNorm2d-22            [-1, 512, 4, 4]               0\n",
            "             ReLU-23            [-1, 512, 4, 4]               0\n",
            "           UNetUp-24            [-1, 512, 4, 4]               0\n",
            "  ConvTranspose2d-25            [-1, 256, 8, 8]       4,194,560\n",
            "   InstanceNorm2d-26            [-1, 256, 8, 8]               0\n",
            "             ReLU-27            [-1, 256, 8, 8]               0\n",
            "           UNetUp-28            [-1, 256, 8, 8]               0\n",
            "  ConvTranspose2d-29          [-1, 128, 16, 16]       1,048,704\n",
            "   InstanceNorm2d-30          [-1, 128, 16, 16]               0\n",
            "             ReLU-31          [-1, 128, 16, 16]               0\n",
            "           UNetUp-32          [-1, 128, 16, 16]               0\n",
            "  ConvTranspose2d-33           [-1, 64, 32, 32]         262,208\n",
            "   InstanceNorm2d-34           [-1, 64, 32, 32]               0\n",
            "             ReLU-35           [-1, 64, 32, 32]               0\n",
            "           UNetUp-36           [-1, 64, 32, 32]               0\n",
            "         Upsample-37          [-1, 128, 64, 64]               0\n",
            "           Conv2d-38            [-1, 1, 64, 64]           1,153\n",
            "             Tanh-39            [-1, 1, 64, 64]               0\n",
            "       FinalLayer-40            [-1, 1, 64, 64]               0\n",
            "================================================================\n",
            "Total params: 13,611,073\n",
            "Trainable params: 13,611,073\n",
            "Non-trainable params: 0\n",
            "----------------------------------------------------------------\n",
            "Input size (MB): 0.02\n",
            "Forward/backward pass size (MB): 11.66\n",
            "Params size (MB): 51.92\n",
            "Estimated Total Size (MB): 63.59\n",
            "----------------------------------------------------------------\n"
          ]
        }
      ],
      "source": [
        "# Summary of the generator\n",
        "summary(GeneratorUNet().cuda(), (1, 64, 64) )"
      ]
    },
    {
      "cell_type": "markdown",
      "metadata": {
        "id": "NX_iK1F3ePJV"
      },
      "source": [
        "## 1.2 Train the generator\n",
        "\n",
        "In order to train the generator, we will repeat the following process:\n",
        "\n",
        "1. Generate T2-w images from T1-w images.\n",
        "2. Compute the error between the true T2-w images and the generated T2-w images.\n",
        "3. Update the parameters of the generators.\n",
        "\n",
        "The training phase looks like this:\n",
        "\n",
        "```\n",
        "# For each epoch\n",
        "\n",
        "    # For each batch\n",
        "\n",
        "        # Generate fake images for all the images in this batch\n",
        "\n",
        "        # Compute the loss for the generator\n",
        "\n",
        "        # Perform one optimization step\n",
        "```"
      ]
    },
    {
      "cell_type": "markdown",
      "metadata": {
        "id": "b-t5-OsmePJV"
      },
      "source": [
        "<div class=\"alert alert-block alert-info\">\n",
        "<b>Exercise</b>: We provide below a template to train our generator\n",
        " on the dataset. Fill in the missing parts.\n",
        "</div>"
      ]
    },
    {
      "cell_type": "code",
      "execution_count": null,
      "metadata": {
        "lines_to_next_cell": 1,
        "id": "4GUjmrp-ePJV"
      },
      "outputs": [],
      "source": [
        "def train_generator(train_loader, test_loader, num_epoch=500,\n",
        "                    lr=0.0001, beta1=0.9, beta2=0.999):\n",
        "    \"\"\"Train a generator on its own.\n",
        "\n",
        "    Args:\n",
        "        train_loader: (DataLoader) a DataLoader wrapping the training dataset\n",
        "        test_loader: (DataLoader) a DataLoader wrapping the test dataset\n",
        "        num_epoch: (int) number of epochs performed during training\n",
        "        lr: (float) learning rate of the discriminator and generator Adam optimizers\n",
        "        beta1: (float) beta1 coefficient of the discriminator and generator Adam optimizers\n",
        "        beta2: (float) beta1 coefficient of the discriminator and generator Adam optimizers\n",
        "\n",
        "    Returns:\n",
        "        generator: (nn.Module) the trained generator\n",
        "    \"\"\"\n",
        "\n",
        "    cuda = True if torch.cuda.is_available() else False\n",
        "    print(f\"Using cuda device: {cuda}\")  # check if GPU is used\n",
        "\n",
        "    # Tensor type (put everything on GPU if possible)\n",
        "    Tensor = torch.cuda.FloatTensor if cuda else torch.FloatTensor\n",
        "\n",
        "    # Output folder\n",
        "    if not os.path.exists(\"./images/generator\"):\n",
        "        os.makedirs(\"./images/generator\")\n",
        "\n",
        "    # Loss function\n",
        "    criterion = torch.nn.L1Loss()  # To complete. A loss for a voxel-wise comparison of images like torch.nn.L1Loss\n",
        "\n",
        "    # Initialize the generator\n",
        "    generator = GeneratorUNet() # To complete.\n",
        "\n",
        "    if cuda:\n",
        "        generator = generator.cuda()\n",
        "        criterion.cuda()\n",
        "\n",
        "    # Optimizer\n",
        "    optimizer = torch.optim.Adam(generator.parameters(),\n",
        "                                 lr=lr, betas=(beta1, beta2))\n",
        "\n",
        "    def sample_images(epoch):\n",
        "        \"\"\"Saves a generated sample from the validation set\"\"\"\n",
        "        imgs = next(iter(test_loader))\n",
        "        real_A = imgs[\"T1\"].type(Tensor)\n",
        "        real_B = imgs[\"T2\"].type(Tensor)\n",
        "        fake_B = generator(real_A)\n",
        "        img_sample = torch.cat((real_A.data, fake_B.data, real_B.data), -2)\n",
        "        save_image(img_sample, f\"./images/generator/epoch-{epoch}.png\",\n",
        "                   nrow=5, normalize=True)\n",
        "\n",
        "    # ----------\n",
        "    #  Training\n",
        "    # ----------\n",
        "\n",
        "    prev_time = time.time()\n",
        "\n",
        "    for epoch in range(num_epoch):\n",
        "        for i, batch in enumerate(train_loader):\n",
        "\n",
        "            # Inputs T1-w and T2-w\n",
        "            real_t1 = batch[\"T1\"].type(Tensor)\n",
        "            real_t2 = batch[\"T2\"].type(Tensor)\n",
        "\n",
        "            # Remove stored gradients\n",
        "            optimizer.zero_grad()\n",
        "\n",
        "            # Generate fake T2 images from the true T1 images\n",
        "            fake_t2 =  generator(real_t1)  # To complete\n",
        "\n",
        "            # Compute the corresponding loss\n",
        "            loss = criterion(real_t2, fake_t2)    # To complete\n",
        "\n",
        "            # Compute the gradient and perform one optimization step\n",
        "            loss.backward()\n",
        "            optimizer.step()\n",
        "\n",
        "            # --------------\n",
        "            #  Log Progress\n",
        "            # --------------\n",
        "\n",
        "            # Determine approximate time left\n",
        "            batches_done = epoch * len(train_loader) + i\n",
        "            batches_left = num_epoch * len(train_loader) - batches_done\n",
        "            time_left = datetime.timedelta(\n",
        "                seconds=batches_left * (time.time() - prev_time))\n",
        "            prev_time = time.time()\n",
        "\n",
        "            # Print log\n",
        "            sys.stdout.write(\n",
        "                \"\\r[Epoch %d/%d] [Batch %d/%d] [Loss: %f] ETA: %s\"\n",
        "                % (\n",
        "                    epoch + 1,\n",
        "                    num_epoch,\n",
        "                    i,\n",
        "                    len(train_loader),\n",
        "                    loss.item(),\n",
        "                    time_left,\n",
        "                )\n",
        "            )\n",
        "\n",
        "        # Save images at the end of each epoch\n",
        "        sample_images(epoch)\n",
        "\n",
        "    return generator"
      ]
    },
    {
      "cell_type": "code",
      "execution_count": null,
      "metadata": {
        "tags": [
          "remove_output"
        ],
        "id": "mJoYBW4iePJW",
        "colab": {
          "base_uri": "https://localhost:8080/"
        },
        "outputId": "3c62ff84-a239-4285-e710-e4066f94ea72"
      },
      "outputs": [
        {
          "output_type": "stream",
          "name": "stdout",
          "text": [
            "Using cuda device: True\n",
            "[Epoch 20/20] [Batch 11/12] [Loss: 0.038317] ETA: 0:00:00.057447"
          ]
        }
      ],
      "source": [
        "# Parameters for Adam optimizer\n",
        "lr = 0.0002\n",
        "beta1 = 0.5\n",
        "beta2 = 0.999\n",
        "\n",
        "# Create dataloaders\n",
        "batch_size = 40\n",
        "train_loader = DataLoader(IXIDataset(root, mode=\"train\"),\n",
        "                          batch_size=batch_size,\n",
        "                          shuffle=True)\n",
        "\n",
        "test_loader = DataLoader(IXIDataset(root, mode=\"test\"),\n",
        "                         batch_size=5,\n",
        "                         shuffle=False)\n",
        "\n",
        "# Number of epochs\n",
        "num_epoch = 20\n",
        "\n",
        "# Train the generator\n",
        "generator = train_generator(train_loader, test_loader, num_epoch=num_epoch,\n",
        "                            lr=lr, beta1=beta1, beta2=beta2)"
      ]
    },
    {
      "cell_type": "markdown",
      "metadata": {
        "id": "ee8qwdLHePJW"
      },
      "source": [
        "## 1.3 Evaluate the generator\n",
        "\n",
        "Let's visualize a few generated T2-weighted images:"
      ]
    },
    {
      "cell_type": "code",
      "execution_count": null,
      "metadata": {
        "lines_to_next_cell": 1,
        "id": "82JusQXzePJW",
        "colab": {
          "base_uri": "https://localhost:8080/",
          "height": 1000
        },
        "outputId": "99b1d5f8-9d87-47be-bff7-9fcd71b33a75"
      },
      "outputs": [
        {
          "output_type": "display_data",
          "data": {
            "text/plain": [
              "<Figure size 2000x2000 with 1 Axes>"
            ],
            "image/png": "[encoded data removed]"
          },
          "metadata": {}
        }
      ],
      "source": [
        "im = img.imread(f'./images/generator/epoch-{num_epoch - 1}.png')\n",
        "plt.figure(figsize=(20, 20))\n",
        "plt.imshow(np.swapaxes(im, 0, 1))\n",
        "plt.gca().invert_yaxis()\n",
        "plt.show()"
      ]
    },
    {
      "cell_type": "markdown",
      "metadata": {
        "id": "s59nyqc_ePJW"
      },
      "source": [
        "After doing visual quality control, it is a good idea to quantify the quality\n",
        "of the generated images using specific metrics. Some popular metrics include\n",
        "the Mean Absolute Error (MAE), the Peak Signal-to-Noise Ratio (PSNR) and\n",
        "the Structural Similarity index (SSIM):\n",
        "\n",
        "* MAE = $\\displaystyle \\frac{1}{nm} \\sum_{i=1}^n \\sum_{j=1}^m \\vert T_{ij} - G_{ij} \\vert $\n",
        "\n",
        "* PSNR = $\\displaystyle -10 \\log_{10} \\left( \\frac{1}{nm} \\sum_{i=1}^n \\sum_{j=1}^m (T_{ij} - G_{ij})^2 \\right) $\n",
        "\n",
        "* SSIM = $\\displaystyle  \\frac{(2 \\mu_T \\mu_G + C_1)(2 \\sigma_{TG} + C_2)}{(\\mu_T^2 +\n",
        "\\mu_G^2 + C_1)(\\sigma_T^2 + \\sigma_G^2 + C_2)} $ where:\n",
        "\n",
        "    * $\\mu$ and $\\sigma$ are the mean value and standard deviation of an image respectively, and\n",
        "    * $C_1$ and $C_2$ are two positive constants (one can take $C_1=0.01$ and $C_2=0.03$).\n",
        "\n",
        "The [mean absolute error](https://en.wikipedia.org/wiki/Mean_absolute_error)\n",
        "is simply the mean of each absolute value of the difference between\n",
        "the true pixel ($T_{ij}$) and the generated pixel ($G_{ij}$).\n",
        "The lower, the better. Minimum value is 0.\n",
        "\n",
        "The [peak signal-to-noise ratio](https://en.wikipedia.org/wiki/Peak_signal-to-noise_ratio)\n",
        "is a function of the mean squared error and allows for comparing\n",
        "images encoded with different scales. We simplified its formula in our case.\n",
        "The higher, the better. Maximum value is $+\\infty$.\n",
        "\n",
        "The [structural similarity index](https://en.wikipedia.org/wiki/Structural_similarity)\n",
        "is a weighted combination of the luminance, the contrast and the structure.\n",
        "The higher, the better. Maximum value is 1.\n",
        "\n",
        "For those interested, you can find [here](https://www.pyimagesearch.com/2014/09/15/python-compare-two-images/)\n",
        "a reference to better understand the differences between these metrics.\n",
        "\n",
        "We provide an implementation for each metric with the functions below."
      ]
    },
    {
      "cell_type": "code",
      "execution_count": null,
      "metadata": {
        "lines_to_next_cell": 1,
        "id": "Ed_SQeNRePJW"
      },
      "outputs": [],
      "source": [
        "def mean_absolute_error(image_true, image_generated):\n",
        "    \"\"\"Compute mean absolute error.\n",
        "\n",
        "    Args:\n",
        "        image_true: (Tensor) true image\n",
        "        image_generated: (Tensor) generated image\n",
        "\n",
        "    Returns:\n",
        "        mse: (float) mean squared error\n",
        "    \"\"\"\n",
        "    return torch.abs(image_true - image_generated).mean()\n",
        "\n",
        "\n",
        "def peak_signal_to_noise_ratio(image_true, image_generated):\n",
        "    \"\"\"\"Compute peak signal-to-noise ratio.\n",
        "\n",
        "    Args:\n",
        "        image_true: (Tensor) true image\n",
        "        image_generated: (Tensor) generated image\n",
        "\n",
        "    Returns:\n",
        "        psnr: (float) peak signal-to-noise ratio\"\"\"\n",
        "    mse = ((image_true - image_generated) ** 2).mean().cpu()\n",
        "    return -10 * np.log10(mse)\n",
        "\n",
        "\n",
        "def structural_similarity_index(image_true, image_generated, C1=0.01, C2=0.03):\n",
        "    \"\"\"Compute structural similarity index.\n",
        "\n",
        "    Args:\n",
        "        image_true: (Tensor) true image\n",
        "        image_generated: (Tensor) generated image\n",
        "        C1: (float) variable to stabilize the denominator\n",
        "        C2: (float) variable to stabilize the denominator\n",
        "\n",
        "    Returns:\n",
        "        ssim: (float) mean squared error\"\"\"\n",
        "    mean_true = image_true.mean()\n",
        "    mean_generated = image_generated.mean()\n",
        "    std_true = image_true.std()\n",
        "    std_generated = image_generated.std()\n",
        "    covariance = (\n",
        "        (image_true - mean_true) * (image_generated - mean_generated)).mean()\n",
        "\n",
        "    numerator = (2 * mean_true * mean_generated + C1) * (2 * covariance + C2)\n",
        "    denominator = ((mean_true ** 2 + mean_generated ** 2 + C1) *\n",
        "                   (std_true ** 2 + std_generated ** 2 + C2))\n",
        "    return numerator / denominator"
      ]
    },
    {
      "cell_type": "markdown",
      "metadata": {
        "id": "_2kmPdihePJX"
      },
      "source": [
        "We will now evaluate the generator with these three metrics on both the\n",
        "training set and the test set by computing the mean value for each metric."
      ]
    },
    {
      "cell_type": "code",
      "execution_count": null,
      "metadata": {
        "lines_to_next_cell": 1,
        "id": "U0hc4I1RePJX"
      },
      "outputs": [],
      "source": [
        "def evaluate_generator(generator):\n",
        "    \"\"\"Evaluate a generator.\n",
        "\n",
        "    Args:\n",
        "        generator: (GeneratorUNet) neural network generating T2-w images\n",
        "\n",
        "    \"\"\"\n",
        "    res_train, res_test = [], []\n",
        "\n",
        "    cuda = True if torch.cuda.is_available() else False\n",
        "    Tensor = torch.cuda.FloatTensor if cuda else torch.FloatTensor\n",
        "\n",
        "    with torch.no_grad():\n",
        "\n",
        "        for i, batch in enumerate(train_loader):\n",
        "\n",
        "            # Inputs T1-w and T2-w\n",
        "            real_t1 = batch[\"T1\"].type(Tensor)\n",
        "            real_t2 = batch[\"T2\"].type(Tensor)\n",
        "            fake_t2 = generator(real_t1)\n",
        "\n",
        "            mae = mean_absolute_error(real_t2, fake_t2).item()\n",
        "            psnr = peak_signal_to_noise_ratio(real_t2, fake_t2).item()\n",
        "            ssim = structural_similarity_index(real_t2, fake_t2).item()\n",
        "\n",
        "            res_train.append([mae, psnr, ssim])\n",
        "\n",
        "        for i, batch in enumerate(test_loader):\n",
        "\n",
        "            # Inputs T1-w and T2-w\n",
        "            real_t1 = batch[\"T1\"].type(Tensor)\n",
        "            real_t2 = batch[\"T2\"].type(Tensor)\n",
        "            fake_t2 = generator(real_t1)\n",
        "\n",
        "            mae = mean_absolute_error(real_t2, fake_t2).item()\n",
        "            psnr = peak_signal_to_noise_ratio(real_t2, fake_t2).item()\n",
        "            ssim = structural_similarity_index(real_t2, fake_t2).item()\n",
        "\n",
        "            res_test.append([mae, psnr, ssim])\n",
        "\n",
        "    df = pd.DataFrame([\n",
        "        pd.DataFrame(res_train, columns=['MAE', 'PSNR', 'SSIM']).mean().squeeze(),\n",
        "        pd.DataFrame(res_test, columns=['MAE', 'PSNR', 'SSIM']).mean().squeeze()\n",
        "    ], index=['Training set', 'Test set']).T\n",
        "    return df"
      ]
    },
    {
      "cell_type": "code",
      "execution_count": null,
      "metadata": {
        "lines_to_next_cell": 1,
        "id": "6xCD7VEDePJX",
        "colab": {
          "base_uri": "https://localhost:8080/",
          "height": 142
        },
        "outputId": "5ada1557-e537-4cbf-b026-fba6e6ab2c17"
      },
      "outputs": [
        {
          "output_type": "execute_result",
          "data": {
            "text/plain": [
              "      Training set   Test set\n",
              "MAE       0.037422   0.049180\n",
              "PSNR     22.375328  19.992135\n",
              "SSIM      0.980648   0.966816"
            ],
            "text/html": [
              "\n",
              "  <div id=\"df-a62a15f7-a2d3-46b8-8653-aff627219bf4\" class=\"colab-df-container\">\n",
              "    <div>\n",
              "<style scoped>\n",
              "    .dataframe tbody tr th:only-of-type {\n",
              "        vertical-align: middle;\n",
              "    }\n",
              "\n",
              "    .dataframe tbody tr th {\n",
              "        vertical-align: top;\n",
              "    }\n",
              "\n",
              "    .dataframe thead th {\n",
              "        text-align: right;\n",
              "    }\n",
              "</style>\n",
              "<table border=\"1\" class=\"dataframe\">\n",
              "  <thead>\n",
              "    <tr style=\"text-align: right;\">\n",
              "      <th></th>\n",
              "      <th>Training set</th>\n",
              "      <th>Test set</th>\n",
              "    </tr>\n",
              "  </thead>\n",
              "  <tbody>\n",
              "    <tr>\n",
              "      <th>MAE</th>\n",
              "      <td>0.037422</td>\n",
              "      <td>0.049180</td>\n",
              "    </tr>\n",
              "    <tr>\n",
              "      <th>PSNR</th>\n",
              "      <td>22.375328</td>\n",
              "      <td>19.992135</td>\n",
              "    </tr>\n",
              "    <tr>\n",
              "      <th>SSIM</th>\n",
              "      <td>0.980648</td>\n",
              "      <td>0.966816</td>\n",
              "    </tr>\n",
              "  </tbody>\n",
              "</table>\n",
              "</div>\n",
              "    <div class=\"colab-df-buttons\">\n",
              "\n",
              "  <div class=\"colab-df-container\">\n",
              "    <button class=\"colab-df-convert\" onclick=\"convertToInteractive('df-a62a15f7-a2d3-46b8-8653-aff627219bf4')\"\n",
              "            title=\"Convert this dataframe to an interactive table.\"\n",
              "            style=\"display:none;\">\n",
              "\n",
              "  <svg xmlns=\"http://www.w3.org/2000/svg\" height=\"24px\" viewBox=\"0 -960 960 960\">\n",
              "    <path d=\"M120-120v-720h720v720H120Zm60-500h600v-160H180v160Zm220 220h160v-160H400v160Zm0 220h160v-160H400v160ZM180-400h160v-160H180v160Zm440 0h160v-160H620v160ZM180-180h160v-160H180v160Zm440 0h160v-160H620v160Z\"/>\n",
              "  </svg>\n",
              "    </button>\n",
              "\n",
              "  <style>\n",
              "    .colab-df-container {\n",
              "      display:flex;\n",
              "      gap: 12px;\n",
              "    }\n",
              "\n",
              "    .colab-df-convert {\n",
              "      background-color: #E8F0FE;\n",
              "      border: none;\n",
              "      border-radius: 50%;\n",
              "      cursor: pointer;\n",
              "      display: none;\n",
              "      fill: #1967D2;\n",
              "      height: 32px;\n",
              "      padding: 0 0 0 0;\n",
              "      width: 32px;\n",
              "    }\n",
              "\n",
              "    .colab-df-convert:hover {\n",
              "      background-color: #E2EBFA;\n",
              "      box-shadow: 0px 1px 2px rgba(60, 64, 67, 0.3), 0px 1px 3px 1px rgba(60, 64, 67, 0.15);\n",
              "      fill: #174EA6;\n",
              "    }\n",
              "\n",
              "    .colab-df-buttons div {\n",
              "      margin-bottom: 4px;\n",
              "    }\n",
              "\n",
              "    [theme=dark] .colab-df-convert {\n",
              "      background-color: #3B4455;\n",
              "      fill: #D2E3FC;\n",
              "    }\n",
              "\n",
              "    [theme=dark] .colab-df-convert:hover {\n",
              "      background-color: #434B5C;\n",
              "      box-shadow: 0px 1px 3px 1px rgba(0, 0, 0, 0.15);\n",
              "      filter: drop-shadow(0px 1px 2px rgba(0, 0, 0, 0.3));\n",
              "      fill: #FFFFFF;\n",
              "    }\n",
              "  </style>\n",
              "\n",
              "    <script>\n",
              "      const buttonEl =\n",
              "        document.querySelector('#df-a62a15f7-a2d3-46b8-8653-aff627219bf4 button.colab-df-convert');\n",
              "      buttonEl.style.display =\n",
              "        google.colab.kernel.accessAllowed ? 'block' : 'none';\n",
              "\n",
              "      async function convertToInteractive(key) {\n",
              "        const element = document.querySelector('#df-a62a15f7-a2d3-46b8-8653-aff627219bf4');\n",
              "        const dataTable =\n",
              "          await google.colab.kernel.invokeFunction('convertToInteractive',\n",
              "                                                    [key], {});\n",
              "        if (!dataTable) return;\n",
              "\n",
              "        const docLinkHtml = 'Like what you see? Visit the ' +\n",
              "          '<a target=\"_blank\" href=https://colab.research.google.com/notebooks/data_table.ipynb>data table notebook</a>'\n",
              "          + ' to learn more about interactive tables.';\n",
              "        element.innerHTML = '';\n",
              "        dataTable['output_type'] = 'display_data';\n",
              "        await google.colab.output.renderOutput(dataTable, element);\n",
              "        const docLink = document.createElement('div');\n",
              "        docLink.innerHTML = docLinkHtml;\n",
              "        element.appendChild(docLink);\n",
              "      }\n",
              "    </script>\n",
              "  </div>\n",
              "\n",
              "\n",
              "<div id=\"df-57b7ceb1-30e6-4cce-8e2c-50775ce7ea12\">\n",
              "  <button class=\"colab-df-quickchart\" onclick=\"quickchart('df-57b7ceb1-30e6-4cce-8e2c-50775ce7ea12')\"\n",
              "            title=\"Suggest charts.\"\n",
              "            style=\"display:none;\">\n",
              "\n",
              "<svg xmlns=\"http://www.w3.org/2000/svg\" height=\"24px\"viewBox=\"0 0 24 24\"\n",
              "     width=\"24px\">\n",
              "    <g>\n",
              "        <path d=\"M19 3H5c-1.1 0-2 .9-2 2v14c0 1.1.9 2 2 2h14c1.1 0 2-.9 2-2V5c0-1.1-.9-2-2-2zM9 17H7v-7h2v7zm4 0h-2V7h2v10zm4 0h-2v-4h2v4z\"/>\n",
              "    </g>\n",
              "</svg>\n",
              "  </button>\n",
              "\n",
              "<style>\n",
              "  .colab-df-quickchart {\n",
              "      --bg-color: #E8F0FE;\n",
              "      --fill-color: #1967D2;\n",
              "      --hover-bg-color: #E2EBFA;\n",
              "      --hover-fill-color: #174EA6;\n",
              "      --disabled-fill-color: #AAA;\n",
              "      --disabled-bg-color: #DDD;\n",
              "  }\n",
              "\n",
              "  [theme=dark] .colab-df-quickchart {\n",
              "      --bg-color: #3B4455;\n",
              "      --fill-color: #D2E3FC;\n",
              "      --hover-bg-color: #434B5C;\n",
              "      --hover-fill-color: #FFFFFF;\n",
              "      --disabled-bg-color: #3B4455;\n",
              "      --disabled-fill-color: #666;\n",
              "  }\n",
              "\n",
              "  .colab-df-quickchart {\n",
              "    background-color: var(--bg-color);\n",
              "    border: none;\n",
              "    border-radius: 50%;\n",
              "    cursor: pointer;\n",
              "    display: none;\n",
              "    fill: var(--fill-color);\n",
              "    height: 32px;\n",
              "    padding: 0;\n",
              "    width: 32px;\n",
              "  }\n",
              "\n",
              "  .colab-df-quickchart:hover {\n",
              "    background-color: var(--hover-bg-color);\n",
              "    box-shadow: 0 1px 2px rgba(60, 64, 67, 0.3), 0 1px 3px 1px rgba(60, 64, 67, 0.15);\n",
              "    fill: var(--button-hover-fill-color);\n",
              "  }\n",
              "\n",
              "  .colab-df-quickchart-complete:disabled,\n",
              "  .colab-df-quickchart-complete:disabled:hover {\n",
              "    background-color: var(--disabled-bg-color);\n",
              "    fill: var(--disabled-fill-color);\n",
              "    box-shadow: none;\n",
              "  }\n",
              "\n",
              "  .colab-df-spinner {\n",
              "    border: 2px solid var(--fill-color);\n",
              "    border-color: transparent;\n",
              "    border-bottom-color: var(--fill-color);\n",
              "    animation:\n",
              "      spin 1s steps(1) infinite;\n",
              "  }\n",
              "\n",
              "  @keyframes spin {\n",
              "    0% {\n",
              "      border-color: transparent;\n",
              "      border-bottom-color: var(--fill-color);\n",
              "      border-left-color: var(--fill-color);\n",
              "    }\n",
              "    20% {\n",
              "      border-color: transparent;\n",
              "      border-left-color: var(--fill-color);\n",
              "      border-top-color: var(--fill-color);\n",
              "    }\n",
              "    30% {\n",
              "      border-color: transparent;\n",
              "      border-left-color: var(--fill-color);\n",
              "      border-top-color: var(--fill-color);\n",
              "      border-right-color: var(--fill-color);\n",
              "    }\n",
              "    40% {\n",
              "      border-color: transparent;\n",
              "      border-right-color: var(--fill-color);\n",
              "      border-top-color: var(--fill-color);\n",
              "    }\n",
              "    60% {\n",
              "      border-color: transparent;\n",
              "      border-right-color: var(--fill-color);\n",
              "    }\n",
              "    80% {\n",
              "      border-color: transparent;\n",
              "      border-right-color: var(--fill-color);\n",
              "      border-bottom-color: var(--fill-color);\n",
              "    }\n",
              "    90% {\n",
              "      border-color: transparent;\n",
              "      border-bottom-color: var(--fill-color);\n",
              "    }\n",
              "  }\n",
              "</style>\n",
              "\n",
              "  <script>\n",
              "    async function quickchart(key) {\n",
              "      const quickchartButtonEl =\n",
              "        document.querySelector('#' + key + ' button');\n",
              "      quickchartButtonEl.disabled = true;  // To prevent multiple clicks.\n",
              "      quickchartButtonEl.classList.add('colab-df-spinner');\n",
              "      try {\n",
              "        const charts = await google.colab.kernel.invokeFunction(\n",
              "            'suggestCharts', [key], {});\n",
              "      } catch (error) {\n",
              "        console.error('Error during call to suggestCharts:', error);\n",
              "      }\n",
              "      quickchartButtonEl.classList.remove('colab-df-spinner');\n",
              "      quickchartButtonEl.classList.add('colab-df-quickchart-complete');\n",
              "    }\n",
              "    (() => {\n",
              "      let quickchartButtonEl =\n",
              "        document.querySelector('#df-57b7ceb1-30e6-4cce-8e2c-50775ce7ea12 button');\n",
              "      quickchartButtonEl.style.display =\n",
              "        google.colab.kernel.accessAllowed ? 'block' : 'none';\n",
              "    })();\n",
              "  </script>\n",
              "</div>\n",
              "    </div>\n",
              "  </div>\n"
            ]
          },
          "metadata": {},
          "execution_count": 13
        }
      ],
      "source": [
        "evaluate_generator(generator)"
      ]
    },
    {
      "cell_type": "markdown",
      "metadata": {
        "id": "bZGSgumSePJX"
      },
      "source": [
        "The performance is already really good! The task may be pretty easy.\n",
        "Let's see if we can still improve the performance with a more complex neural\n",
        "network."
      ]
    },
    {
      "cell_type": "markdown",
      "source": [
        "#HW part"
      ],
      "metadata": {
        "id": "CHpgE4Zhn7vH"
      }
    },
    {
      "cell_type": "markdown",
      "source": [
        "## Conditional Generative Adversarial Network (cGAN)\n",
        "\n",
        "A generative adversarial network (GAN) is a network generating new samples.\n",
        "A typical GAN consists of two networks:\n",
        "\n",
        "* a **generator** that generates new samples, and\n",
        "* a **discriminator** that discriminate generated samples from true samples.\n",
        "\n",
        "One can think of the generator as a *counterfeiter* and the discriminator\n",
        "as a *authenticator*.\n",
        "The discriminator aims at improving the generator by having an opposition.\n",
        "The discriminator must not be too good, otherwise the generator won't improve.\n",
        "The generator and the discriminator are trained simultaneously and help\n",
        "each other improve.\n",
        "\n",
        "A conditional generative adversarial network (cGAN) is a particular case\n",
        "of a GAN that is conditioned by the true sample.\n",
        "A conditional GAN can thus only be used when **paired samples** are available."
      ],
      "metadata": {
        "id": "6RF2Ie8bn-QE"
      }
    },
    {
      "cell_type": "markdown",
      "source": [
        "### Architecture of the cGAN\n",
        "\n",
        "Like a GAN, a cGAN has two networks:\n",
        "\n",
        "* a **generator** that generates new samples, and\n",
        "\n",
        "* a **discriminator** that discriminate generated samples from true samples.\n",
        "\n",
        "We will keep the same architecture for the generator.\n",
        "\n",
        "For the discriminator we will use a **two-dimensional convolutional neural\n",
        "network** with 5 layers:\n",
        "\n",
        "* the first 4 layers are 2D-convolutional layers with  a LeakyReLU activation\n",
        "function;\n",
        "\n",
        "* the last layer is a 2D-convolutional layer.\n",
        "\n",
        "The parameters for each layer are given in the figure below. Don't forget\n",
        "that the input of the discriminator will be the generated image and the true\n",
        "image since we are using a conditional GAN. Therefore, the number of input\n",
        "channels for the first layer will be two (one for each image)."
      ],
      "metadata": {
        "id": "eaUBUJ3SoFRR"
      }
    },
    {
      "cell_type": "markdown",
      "source": [
        "<a href=\"https://ibb.co/9b2jF0V\">\n",
        "  <img src=\"https://i.ibb.co/hBHvPNZ/Capture-d-cran-2020-03-02-16-04-14.png\" width=\"800\"  border=\"0\">\n",
        "</a>"
      ],
      "metadata": {
        "id": "2TcmpLH2oAUu"
      }
    },
    {
      "cell_type": "code",
      "source": [
        "# We provide a function to generate a block for the given architecture.\n",
        "def discriminator_block(in_filters, out_filters):\n",
        "    \"\"\"Return downsampling layers of each discriminator block\"\"\"\n",
        "    layers = [nn.Conv2d(in_filters, out_filters, 3, stride=2, padding=1)]\n",
        "    layers.append(nn.LeakyReLU(0.2, inplace=True))\n",
        "    return layers\n",
        "\n",
        "\n",
        "class Discriminator(nn.Module):\n",
        "    def __init__(self, in_channels=1):\n",
        "        super(Discriminator, self).__init__()\n",
        "        self.layers = nn.Sequential(\n",
        "            discriminator_block(in_channels*2, 64),\n",
        "            discriminator_block(64, 128),\n",
        "            discriminator_block(128, 256),\n",
        "            discriminator_block(256, 512),\n",
        "            nn.Conv2d(512, 1, 1, stride=4, padding=0),\n",
        "        )\n",
        "\n",
        "\n",
        "    def forward(self, img_A, img_B):\n",
        "        # Concatenate image and condition image by channels to produce input\n",
        "        img_input = torch.cat((img_A, img_B), 1)\n",
        "        return self.layers(img_input)"
      ],
      "metadata": {
        "id": "zqNYKF4Rn7Ul"
      },
      "execution_count": null,
      "outputs": []
    },
    {
      "cell_type": "markdown",
      "source": [
        "###Task 1.\n",
        "Get summary of the discriminator"
      ],
      "metadata": {
        "id": "IpU8NNpAokRq"
      }
    },
    {
      "cell_type": "markdown",
      "source": [
        "### Training conditional GAN\n",
        "\n",
        "Now that we have created our generator and our discriminator, we have to\n",
        "train them on the dataset.\n",
        "\n",
        "**Notations**\n",
        "\n",
        "* $X_{T1}$: true T1 image;\n",
        "* $X_{T2}$: true T2 image;\n",
        "* $\\tilde{X}_{T2}$: generated T2 image from $X_{T1}$;\n",
        "* $\\hat{y}_{X}$: probability returned by the discriminator that the ${X}_{T2}$ is real;\n",
        "* $\\hat{y}_{\\tilde{X}}$: probability returned by the discriminator that the $\\tilde{X}_{T2}$ is real.\n",
        "\n",
        "**Training the generator**\n",
        "\n",
        "The loss for the generator is the sum of:\n",
        "\n",
        "* the binary cross-entropy loss between the predicted probabilities of the\n",
        "generated images and positive labels,\n",
        "* the pixel-wise mean absolute error between the generated image and the true\n",
        "image.\n",
        "\n",
        "For one sample, it is then:\n",
        "\n",
        "$$\n",
        "\\ell_G = - \\log(\\hat{y}_{\\tilde{X}}) + \\lambda * \\text{MAE}(X_{T2}, \\tilde{X}_{T2})\n",
        "$$\n",
        "\n",
        "**Training the discriminator**\n",
        "\n",
        "The loss for the generator is the mean of:\n",
        "\n",
        "* the binary cross-entropy loss between the predicted probabilities of the\n",
        "generated images and negative labels,\n",
        "* the binary cross-entropy loss between the predicted probabilities\n",
        "of the true images and positive labels.\n",
        "\n",
        "For one sample, it is then:\n",
        "\n",
        "$$\n",
        "\\ell_D = - 0.5 * \\log(\\hat{y}_{X}) - 0.5 * \\log(1 - \\hat{y}_{\\tilde{X}})\n",
        "$$\n",
        "\n",
        "**Training phase**\n",
        "\n",
        "The generator and the discriminator are trained simultaneously, which makes\n",
        "the training phase look like this:\n",
        "\n",
        "```\n",
        "# For each epoch\n",
        "\n",
        "    # For each batch\n",
        "\n",
        "        # Generate fake images for all the images in this batch\n",
        "\n",
        "        # Compute the loss for the generator and perform one optimization step\n",
        "\n",
        "        # Compute the loss for the discriminator and perform one optimization step\n",
        "```"
      ],
      "metadata": {
        "id": "-WumL0K2ords"
      }
    },
    {
      "cell_type": "code",
      "source": [
        "def train_cgan(train_loader, test_loader, num_epoch=500,\n",
        "               lr=0.0001, beta1=0.9, beta2=0.999):\n",
        "    \"\"\"Train a conditional GAN.\n",
        "\n",
        "    Args:\n",
        "        train_loader: (DataLoader) a DataLoader wrapping a the training dataset\n",
        "        test_loader: (DataLoader) a DataLoader wrapping a the test dataset\n",
        "        num_epoch: (int) number of epochs performed during training\n",
        "        lr: (float) learning rate of the discriminator and generator Adam optimizers\n",
        "        beta1: (float) beta1 coefficient of the discriminator and generator Adam optimizers\n",
        "        beta2: (float) beta1 coefficient of the discriminator and generator Adam optimizers\n",
        "\n",
        "    Returns:\n",
        "        generator: (nn.Module) the trained generator\n",
        "    \"\"\"\n",
        "\n",
        "    cuda = True if torch.cuda.is_available() else False\n",
        "    print(f\"Using cuda device: {cuda}\")  # check if GPU is used\n",
        "\n",
        "    # Tensor type (put everything on GPU if possible)\n",
        "    Tensor = torch.cuda.FloatTensor if cuda else torch.FloatTensor\n",
        "\n",
        "    # Output folder\n",
        "    if not os.path.exists(\"./images/cgan\"):\n",
        "        os.makedirs(\"./images/cgan\")\n",
        "\n",
        "    # Loss functions\n",
        "    criterion_GAN = torch.nn.BCEWithLogitsLoss()  # A loss adapted to binary classification like torch.nn.BCEWithLogitsLoss\n",
        "    criterion_pixelwise = torch.nn.L1Loss()  # A loss for a voxel-wise comparison of images like torch.nn.L1Loss\n",
        "\n",
        "    lambda_GAN = 1.  # Weights criterion_GAN in the generator loss\n",
        "    lambda_pixel = 1.  # Weights criterion_pixelwise in the generator loss\n",
        "\n",
        "    # Initialize generator and discriminator\n",
        "    generator = GeneratorUNet()\n",
        "    discriminator = Discriminator()\n",
        "\n",
        "    if cuda:\n",
        "        generator = generator.cuda()\n",
        "        discriminator = discriminator.cuda()\n",
        "        criterion_GAN.cuda()\n",
        "        criterion_pixelwise.cuda()\n",
        "\n",
        "    # Optimizers\n",
        "    optimizer_generator = torch.optim.Adam(\n",
        "        generator.parameters(), lr=lr, betas=(beta1, beta2))\n",
        "    optimizer_discriminator = torch.optim.Adam(\n",
        "        discriminator.parameters(), lr=lr, betas=(beta1, beta2))\n",
        "\n",
        "    def sample_images(epoch):\n",
        "        \"\"\"Saves a generated sample from the validation set\"\"\"\n",
        "        imgs = next(iter(test_loader))\n",
        "        real_t1 = imgs[\"T1\"].type(Tensor)\n",
        "        real_t2 = imgs[\"T2\"].type(Tensor)\n",
        "        fake_t2 = generator(real_t1)\n",
        "        img_sample = torch.cat((real_t1.data, fake_t2.data, real_t2.data), -2)\n",
        "        save_image(img_sample, f\"./images/cgan/epoch-{epoch}.png\",\n",
        "                   nrow=5, normalize=True)\n",
        "\n",
        "    # ----------\n",
        "    #  Training\n",
        "    # ----------\n",
        "\n",
        "    prev_time = time.time()\n",
        "\n",
        "    for epoch in range(num_epoch):\n",
        "        for i, batch in enumerate(train_loader):\n",
        "\n",
        "            # Inputs T1-w and T2-w\n",
        "            real_t1 = batch[\"T1\"].type(Tensor)\n",
        "            real_t2 = batch[\"T2\"].type(Tensor)\n",
        "\n",
        "            # Create labels\n",
        "            valid = Tensor(np.ones((real_t2.size(0), 1, 1, 1)))\n",
        "            fake = Tensor(np.zeros((real_t2.size(0), 1, 1, 1)))\n",
        "            # -----------------\n",
        "            #  Train Generator\n",
        "            # -----------------\n",
        "            optimizer_generator.zero_grad()\n",
        "\n",
        "            # GAN loss\n",
        "            fake_t2 = generator(real_t1)\n",
        "            pred_fake = discriminator(fake_t2, real_t1)\n",
        "            loss_GAN = criterion_GAN(pred_fake, valid)\n",
        "\n",
        "            # L1 loss\n",
        "            loss_pixel = criterion_pixelwise(fake_t2, real_t2)\n",
        "\n",
        "            # Total loss\n",
        "            loss_generator = lambda_GAN * loss_GAN + lambda_pixel * loss_pixel\n",
        "\n",
        "            # Compute the gradient and perform one optimization step\n",
        "            loss_generator.backward()\n",
        "            optimizer_generator.step()\n",
        "\n",
        "            # ---------------------\n",
        "            #  Train Discriminator\n",
        "            # ---------------------\n",
        "\n",
        "            optimizer_discriminator.zero_grad()\n",
        "            # Real loss\n",
        "            pred_real = discriminator(real_t2, real_t1)\n",
        "            loss_real = criterion_GAN(pred_real, valid)\n",
        "\n",
        "            # Fake loss\n",
        "            fake_t2 = generator(real_t1)\n",
        "            pred_fake = discriminator(fake_t2.detach(), real_t1)\n",
        "            loss_fake = criterion_GAN(pred_fake, fake)\n",
        "\n",
        "            # Total loss\n",
        "            loss_discriminator = 0.5 * (loss_real + loss_fake)\n",
        "\n",
        "            # Compute the gradient and perform one optimization step\n",
        "            loss_discriminator.backward()\n",
        "            optimizer_discriminator.step()\n",
        "\n",
        "            # --------------\n",
        "            #  Log Progress\n",
        "            # --------------\n",
        "\n",
        "            # Determine approximate time left\n",
        "            batches_done = epoch * len(train_loader) + i\n",
        "            batches_left = num_epoch * len(train_loader) - batches_done\n",
        "            time_left = datetime.timedelta(\n",
        "                seconds=batches_left * (time.time() - prev_time))\n",
        "            prev_time = time.time()\n",
        "\n",
        "            # Print log\n",
        "            sys.stdout.write(\n",
        "                \"\\r[Epoch %d/%d] [Batch %d/%d] [D loss: %f] \"\n",
        "                \"[G loss: %f, pixel: %f, adv: %f] ETA: %s\"\n",
        "                % (\n",
        "                    epoch + 1,\n",
        "                    num_epoch,\n",
        "                    i,\n",
        "                    len(train_loader),\n",
        "                    loss_discriminator.item(),\n",
        "                    loss_generator.item(),\n",
        "                    loss_pixel.item(),\n",
        "                    loss_GAN.item(),\n",
        "                    time_left,\n",
        "                )\n",
        "            )\n",
        "\n",
        "        # Save images at the end of each epoch\n",
        "        sample_images(epoch)\n",
        "\n",
        "    return generator\n"
      ],
      "metadata": {
        "id": "8PJRcGR8o2Q9"
      },
      "execution_count": null,
      "outputs": []
    },
    {
      "cell_type": "code",
      "source": [
        "generator_cgan = train_cgan(train_loader, test_loader, num_epoch=num_epoch,\n",
        "                            lr=lr, beta1=beta1, beta2=beta2)"
      ],
      "metadata": {
        "id": "nqpmCtKnpA39"
      },
      "execution_count": null,
      "outputs": []
    },
    {
      "cell_type": "markdown",
      "source": [
        "### Evaluating the generator of our cGAN\n",
        "\n",
        "Let's visualize a few generated T2-weighted images:"
      ],
      "metadata": {
        "id": "02Xm_IY3pESp"
      }
    },
    {
      "cell_type": "code",
      "source": [
        "plt.figure(figsize=(20, 20))\n",
        "im = img.imread(f'./images/cgan/epoch-{num_epoch - 1}.png')\n",
        "plt.imshow(np.swapaxes(im, 0, 1))\n",
        "plt.gca().invert_yaxis()\n",
        "plt.show()"
      ],
      "metadata": {
        "id": "sL9s9vX0pJoL"
      },
      "execution_count": null,
      "outputs": []
    },
    {
      "cell_type": "code",
      "source": [
        "evaluate_generator(generator_cgan)"
      ],
      "metadata": {
        "id": "MlDjjPT1pMGs"
      },
      "execution_count": null,
      "outputs": []
    },
    {
      "cell_type": "markdown",
      "source": [
        "###Task:\n",
        "\n",
        "Give the comparison of two models."
      ],
      "metadata": {
        "id": "VdOufQEUotvt"
      }
    },
    {
      "cell_type": "markdown",
      "source": [
        "###Quis\n",
        "\n",
        "You need to get 3 out of 5 points for quis (1 point per question)"
      ],
      "metadata": {
        "id": "o1bVDEt_pTjC"
      }
    },
    {
      "cell_type": "markdown",
      "source": [
        "\n",
        "1. GAN training can be considered as a two player minimax game?"
      ],
      "metadata": {
        "id": "oyD0-WBvpa5j"
      }
    },
    {
      "cell_type": "markdown",
      "source": [
        "####Your answer"
      ],
      "metadata": {
        "id": "E4t20-29pej7"
      }
    },
    {
      "cell_type": "markdown",
      "source": [
        "2. What are the goals of the generator G in the generative-adversarial model?\n",
        "\n",
        "a. Discriminator classification error minimization\n",
        "\n",
        "b. Maximizing the discriminator classification error\n",
        "\n",
        "c. Minimization of the functional log(1 - D( G(z) ))\n",
        "\n",
        "d. Minimization of the functional log(1 - G( D(z) ))"
      ],
      "metadata": {
        "id": "AX9XYlutpih0"
      }
    },
    {
      "cell_type": "markdown",
      "source": [
        "####Your answer"
      ],
      "metadata": {
        "id": "eB5UXcAipm8R"
      }
    },
    {
      "cell_type": "markdown",
      "source": [
        "3. Choose the wrong properties of the KL-divergence of the probability distributions P and Q\n",
        "\n",
        "a. DKL(P||Q) < 0\n",
        "\n",
        "b. DKL(P||Q) =DKL(Q||P)\n",
        "\n",
        "c. DKL(P||Q) = 0 when P=Q\n",
        "\n",
        "d. 0<DKL(P||Q) < 1"
      ],
      "metadata": {
        "id": "qXczKSUOpwL8"
      }
    },
    {
      "cell_type": "markdown",
      "source": [
        "####Your answer"
      ],
      "metadata": {
        "id": "3VNep60Sp5Us"
      }
    },
    {
      "cell_type": "markdown",
      "source": [
        "4. Which GAN learning algorithm is correct?\n",
        "\n",
        "a. k steps for generator model, then 1 step for discriminator model\n",
        "\n",
        "b. 1 step for generator model, then 1 step for discriminator model\n",
        "\n",
        "c. k steps for discriminator model, then 1 step for generator model"
      ],
      "metadata": {
        "id": "vc3ERq3qp2hk"
      }
    },
    {
      "cell_type": "markdown",
      "source": [
        "####Your answer"
      ],
      "metadata": {
        "id": "bieY43x5p564"
      }
    },
    {
      "cell_type": "markdown",
      "source": [
        "5. What is “mode crash”?\n",
        "\n",
        "This is a problem when ____ (discriminator/generator) learns to fool ____ (discriminator/generator) and starts creating images of ____ (all/just a few) classes from the data set."
      ],
      "metadata": {
        "id": "iTA6--ODp_Jc"
      }
    },
    {
      "cell_type": "markdown",
      "source": [
        "####Your answer"
      ],
      "metadata": {
        "id": "lSy0GlFLqEeA"
      }
    }
  ],
  "metadata": {
    "jupytext": {
      "cell_metadata_json": true,
      "main_language": "python"
    },
    "kernelspec": {
      "display_name": "Python 3",
      "name": "python3"
    },
    "colab": {
      "provenance": [],
      "gpuType": "T4",
      "toc_visible": true,
      "include_colab_link": true
    },
    "accelerator": "GPU"
  },
  "nbformat": 4,
  "nbformat_minor": 0
}